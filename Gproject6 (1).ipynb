{
 "cells": [
  {
   "cell_type": "markdown",
   "metadata": {},
   "source": [
    "# import packages"
   ]
  },
  {
   "cell_type": "code",
   "execution_count": 2,
   "metadata": {},
   "outputs": [],
   "source": [
    "import pandas as pd\n",
    "import numpy as np\n",
    "from Bio.Seq import Seq"
   ]
  },
  {
   "cell_type": "markdown",
   "metadata": {},
   "source": [
    "# Read the file whose contain the index of splicing "
   ]
  },
  {
   "cell_type": "code",
   "execution_count": 2,
   "metadata": {},
   "outputs": [
    {
     "data": {
      "text/html": [
       "<div>\n",
       "<style scoped>\n",
       "    .dataframe tbody tr th:only-of-type {\n",
       "        vertical-align: middle;\n",
       "    }\n",
       "\n",
       "    .dataframe tbody tr th {\n",
       "        vertical-align: top;\n",
       "    }\n",
       "\n",
       "    .dataframe thead th {\n",
       "        text-align: right;\n",
       "    }\n",
       "</style>\n",
       "<table border=\"1\" class=\"dataframe\">\n",
       "  <thead>\n",
       "    <tr style=\"text-align: right;\">\n",
       "      <th></th>\n",
       "      <th>#NAME</th>\n",
       "      <th>CHROM</th>\n",
       "      <th>STRAND</th>\n",
       "      <th>TX_START</th>\n",
       "      <th>TX_END</th>\n",
       "      <th>EXON_START</th>\n",
       "      <th>EXON_END</th>\n",
       "    </tr>\n",
       "  </thead>\n",
       "  <tbody>\n",
       "    <tr>\n",
       "      <th>0</th>\n",
       "      <td>OR4F5</td>\n",
       "      <td>1</td>\n",
       "      <td>+</td>\n",
       "      <td>69090</td>\n",
       "      <td>70008</td>\n",
       "      <td>69090,</td>\n",
       "      <td>70008,</td>\n",
       "    </tr>\n",
       "    <tr>\n",
       "      <th>1</th>\n",
       "      <td>OR4F16</td>\n",
       "      <td>1</td>\n",
       "      <td>-</td>\n",
       "      <td>685715</td>\n",
       "      <td>686654</td>\n",
       "      <td>685715,</td>\n",
       "      <td>686654,</td>\n",
       "    </tr>\n",
       "    <tr>\n",
       "      <th>2</th>\n",
       "      <td>SAMD11</td>\n",
       "      <td>1</td>\n",
       "      <td>+</td>\n",
       "      <td>925737</td>\n",
       "      <td>944575</td>\n",
       "      <td>925737,925921,930154,931038,935771,939039,9392...</td>\n",
       "      <td>925800,926013,930336,931089,935896,939129,9394...</td>\n",
       "    </tr>\n",
       "    <tr>\n",
       "      <th>3</th>\n",
       "      <td>NOC2L</td>\n",
       "      <td>1</td>\n",
       "      <td>-</td>\n",
       "      <td>944203</td>\n",
       "      <td>959290</td>\n",
       "      <td>944203,945056,945517,946172,946401,948130,9484...</td>\n",
       "      <td>944800,945146,945653,946286,946545,948232,9486...</td>\n",
       "    </tr>\n",
       "    <tr>\n",
       "      <th>4</th>\n",
       "      <td>KLHL17</td>\n",
       "      <td>1</td>\n",
       "      <td>+</td>\n",
       "      <td>960586</td>\n",
       "      <td>965715</td>\n",
       "      <td>960586,961292,961628,961825,962354,962703,9631...</td>\n",
       "      <td>960800,961552,961750,962047,962471,962917,9632...</td>\n",
       "    </tr>\n",
       "    <tr>\n",
       "      <th>...</th>\n",
       "      <td>...</td>\n",
       "      <td>...</td>\n",
       "      <td>...</td>\n",
       "      <td>...</td>\n",
       "      <td>...</td>\n",
       "      <td>...</td>\n",
       "      <td>...</td>\n",
       "    </tr>\n",
       "    <tr>\n",
       "      <th>19300</th>\n",
       "      <td>BPY2B</td>\n",
       "      <td>Y</td>\n",
       "      <td>+</td>\n",
       "      <td>24618003</td>\n",
       "      <td>24639207</td>\n",
       "      <td>24618003,24618309,24621497,24626043,24628221,2...</td>\n",
       "      <td>24618034,24618432,24621634,24626162,24628339,2...</td>\n",
       "    </tr>\n",
       "    <tr>\n",
       "      <th>19301</th>\n",
       "      <td>DAZ3</td>\n",
       "      <td>Y</td>\n",
       "      <td>-</td>\n",
       "      <td>24763068</td>\n",
       "      <td>24813479</td>\n",
       "      <td>24763068,24768898,24773569,24774349,24784136,2...</td>\n",
       "      <td>24764925,24768997,24773604,24774421,24784208,2...</td>\n",
       "    </tr>\n",
       "    <tr>\n",
       "      <th>19302</th>\n",
       "      <td>DAZ4</td>\n",
       "      <td>Y</td>\n",
       "      <td>+</td>\n",
       "      <td>24834126</td>\n",
       "      <td>24905240</td>\n",
       "      <td>24834126,24840730,24841151,24841803,24842291,2...</td>\n",
       "      <td>24834129,24840877,24841243,24841855,24842355,2...</td>\n",
       "    </tr>\n",
       "    <tr>\n",
       "      <th>19303</th>\n",
       "      <td>BPY2C</td>\n",
       "      <td>Y</td>\n",
       "      <td>-</td>\n",
       "      <td>25030900</td>\n",
       "      <td>25052104</td>\n",
       "      <td>25030900,25031316,25037991,25038808,25041768,2...</td>\n",
       "      <td>25031222,25031441,25038116,25038914,25041886,2...</td>\n",
       "    </tr>\n",
       "    <tr>\n",
       "      <th>19304</th>\n",
       "      <td>CDY1</td>\n",
       "      <td>Y</td>\n",
       "      <td>+</td>\n",
       "      <td>25622161</td>\n",
       "      <td>25624338</td>\n",
       "      <td>25622161,</td>\n",
       "      <td>25624338,</td>\n",
       "    </tr>\n",
       "  </tbody>\n",
       "</table>\n",
       "<p>19305 rows × 7 columns</p>\n",
       "</div>"
      ],
      "text/plain": [
       "        #NAME CHROM STRAND  TX_START    TX_END  \\\n",
       "0       OR4F5     1      +     69090     70008   \n",
       "1      OR4F16     1      -    685715    686654   \n",
       "2      SAMD11     1      +    925737    944575   \n",
       "3       NOC2L     1      -    944203    959290   \n",
       "4      KLHL17     1      +    960586    965715   \n",
       "...       ...   ...    ...       ...       ...   \n",
       "19300   BPY2B     Y      +  24618003  24639207   \n",
       "19301    DAZ3     Y      -  24763068  24813479   \n",
       "19302    DAZ4     Y      +  24834126  24905240   \n",
       "19303   BPY2C     Y      -  25030900  25052104   \n",
       "19304    CDY1     Y      +  25622161  25624338   \n",
       "\n",
       "                                              EXON_START  \\\n",
       "0                                                 69090,   \n",
       "1                                                685715,   \n",
       "2      925737,925921,930154,931038,935771,939039,9392...   \n",
       "3      944203,945056,945517,946172,946401,948130,9484...   \n",
       "4      960586,961292,961628,961825,962354,962703,9631...   \n",
       "...                                                  ...   \n",
       "19300  24618003,24618309,24621497,24626043,24628221,2...   \n",
       "19301  24763068,24768898,24773569,24774349,24784136,2...   \n",
       "19302  24834126,24840730,24841151,24841803,24842291,2...   \n",
       "19303  25030900,25031316,25037991,25038808,25041768,2...   \n",
       "19304                                          25622161,   \n",
       "\n",
       "                                                EXON_END  \n",
       "0                                                 70008,  \n",
       "1                                                686654,  \n",
       "2      925800,926013,930336,931089,935896,939129,9394...  \n",
       "3      944800,945146,945653,946286,946545,948232,9486...  \n",
       "4      960800,961552,961750,962047,962471,962917,9632...  \n",
       "...                                                  ...  \n",
       "19300  24618034,24618432,24621634,24626162,24628339,2...  \n",
       "19301  24764925,24768997,24773604,24774421,24784208,2...  \n",
       "19302  24834129,24840877,24841243,24841855,24842355,2...  \n",
       "19303  25031222,25031441,25038116,25038914,25041886,2...  \n",
       "19304                                          25624338,  \n",
       "\n",
       "[19305 rows x 7 columns]"
      ]
     },
     "execution_count": 2,
     "metadata": {},
     "output_type": "execute_result"
    }
   ],
   "source": [
    "index_file=pd.read_table(\"grch38.txt\")\n",
    "index_file"
   ]
  },
  {
   "cell_type": "markdown",
   "metadata": {},
   "source": [
    "# Read the chromosomes files whose contain the sequence of introns and exons"
   ]
  },
  {
   "cell_type": "code",
   "execution_count": 3,
   "metadata": {},
   "outputs": [],
   "source": [
    "for n in range(1,23): \n",
    "    locals()[\"ch\"+str(n)] = Seq(\"\".join([l.strip() for l in open(\"Homo_sapiens.GRCh38.dna.chromosome.%i.fa\"%n).readlines()[1:]]))\n",
    "chx=Seq(\"\".join([l.strip() for l in open(\"Homo_sapiens.GRCh38.dna.chromosome.X.fa\").readlines()[1:]])) \n",
    "chy=Seq(\"\".join([l.strip() for l in open(\"Homo_sapiens.GRCh38.dna.chromosome.Y.fa\").readlines()[1:]]))"
   ]
  },
  {
   "cell_type": "markdown",
   "metadata": {},
   "source": [
    "# make reverce complement for these chromosomes"
   ]
  },
  {
   "cell_type": "code",
   "execution_count": 4,
   "metadata": {},
   "outputs": [],
   "source": [
    "for n in range(1,23): \n",
    "    locals()[\"ch\"+str(n)+\"_rev\"]=locals()[\"ch\"+str(n)].reverse_complement()\n",
    "chx_rev=chx.reverse_complement()\n",
    "chy_rev=chy.reverse_complement()"
   ]
  },
  {
   "cell_type": "markdown",
   "metadata": {},
   "source": [
    "# make function to extract sequences and identify class"
   ]
  },
  {
   "cell_type": "code",
   "execution_count": 5,
   "metadata": {},
   "outputs": [],
   "source": [
    "seq_splice=[]\n",
    "class_type=[]\n",
    "def splice(seq,indexs):\n",
    "    for x,y in indexs:\n",
    "         seq_splice.append(seq[x:y])\n",
    "count=1             \n",
    "for i in range(len(index_file)):\n",
    "    #for n in range(1,23):\n",
    "     #if index_file['CHROM'][i]=='%s'%i or index_file['CHROM'][i]=='X'or index_file['CHROM'][i]=='Y':\n",
    "    if index_file['CHROM'][i]=='%s'%count:\n",
    "        E=index_file['EXON_END'][i].split(\",\")\n",
    "        E.remove(E[-1])\n",
    "           \n",
    "        s=index_file['EXON_START'][i].split(\",\")\n",
    "        s.remove(s[-1])\n",
    "            \n",
    "        lis_EXON_START=[]\n",
    "        lis_EXON_END=[]\n",
    "            \n",
    "        for j in E :\n",
    "            lis_EXON_END.append(int(j)) \n",
    "        for k in s :\n",
    "            lis_EXON_START.append(int(k))\n",
    "        for m in lis_EXON_START :\n",
    "            x=int((lis_EXON_START[0]+lis_EXON_END[0])/2)\n",
    "            if class_type.count('Neither')<=177723:\n",
    "                if index_file['STRAND'][i]=='+': \n",
    "                    splice(locals()[\"ch\"+str(count)],[(x-200,x+201)])\n",
    "                    class_type.append(\"Neither\")\n",
    "        #elif index_file['STRAND'][i]=='-':\n",
    "                else :  \n",
    "                    splice(locals()[\"ch\"+str(count)+\"_rev\"],[(x-200,x+201)])\n",
    "                    class_type.append(\"Neither\")\n",
    "            else:\n",
    "                break\n",
    "                   \n",
    "        for r in range(len(lis_EXON_START)):\n",
    "            if lis_EXON_START[r]==index_file['TX_START'][i] and lis_EXON_END[r]==index_file['TX_END'][i]:\n",
    "                continue   \n",
    "            else :\n",
    "                if index_file['STRAND'][i]=='+':\n",
    "                    splice(locals()[\"ch\"+str(count)],[(lis_EXON_START[r]-200,lis_EXON_START[r]+201)])\n",
    "                    class_type.append(\"Acceptor\")\n",
    "                    splice(locals()[\"ch\"+str(count)],[(lis_EXON_END[r]-200,lis_EXON_END[r]+201)])\n",
    "                    class_type.append(\"Doner\")\n",
    "                                  \n",
    "                else:\n",
    "                        #if index_file['STRAND'][i]=='-': \n",
    "                    splice(locals()[\"ch\"+str(count)+\"_rev\"],[(lis_EXON_START[r]-200,lis_EXON_START[r]+201)])\n",
    "                    class_type.append(\"Acceptor\")\n",
    "                    splice(locals()[\"ch\"+str(count)+\"_rev\"],[(lis_EXON_END[r]-200,lis_EXON_END[r]+201)])\n",
    "                    class_type.append(\"Doner\")\n",
    "                        \n",
    "    elif index_file['CHROM'][i]==\"X\" or index_file['CHROM'][i]==\"Y\":\n",
    "        E=index_file['EXON_END'][i].split(\",\")\n",
    "        E.remove(E[-1])\n",
    "        s=index_file['EXON_START'][i].split(\",\")   \n",
    "        s.remove(s[-1])  \n",
    "        lis_EXON_START=[]   \n",
    "        lis_EXON_END=[]\n",
    "        for j in E :\n",
    "            lis_EXON_END.append(int(j))\n",
    "        for k in s :    \n",
    "             lis_EXON_START.append(int(k))\n",
    "        for m in lis_EXON_START :\n",
    "            x=int((lis_EXON_START[0]+lis_EXON_END[0])/2)\n",
    "            if class_type.count('Neither')<=177723: \n",
    "                if index_file['STRAND'][i]=='+':\n",
    "                    if index_file['CHROM'][i]=='X':\n",
    "                        splice(\"chx\",[(x-200,x+201)])\n",
    "                    else:\n",
    "                        splice(\"chy\",[(x-200,x+201)])\n",
    "                        class_type.append(\"Neither\")\n",
    "                else :\n",
    "                    if index_file['CHROM'][i]=='X':\n",
    "                        splice(locals()[\"chx_rev\"],[(x-200,x+201)])\n",
    "                    else :\n",
    "                        splice(locals()[\"chy_rev\"],[(x-200,x+201)])\n",
    "                        class_type.append(\"Neither\") \n",
    "            else:\n",
    "                break\n",
    "        for r in range(len(lis_EXON_START)):\n",
    "            if lis_EXON_START[r]==index_file['TX_START'][i] and lis_EXON_END[r]==index_file['TX_END'][i]:\n",
    "                continue   \n",
    "            else :\n",
    "                if index_file['STRAND'][i]=='+':\n",
    "                    if index_file['CHROM'][i]=='X':\n",
    "                        splice(\"chx\",[(lis_EXON_START[r]-200,lis_EXON_START[r]+201)])\n",
    "                        class_type.append(\"Acceptor\")\n",
    "                        splice(\"chx\",[(lis_EXON_END[r]-200,lis_EXON_END[r]+201)])\n",
    "                        class_type.append(\"Doner\") \n",
    "                    else : \n",
    "                        splice(\"chy\",[(lis_EXON_START[r]-200,lis_EXON_START[r]+201)])\n",
    "                        class_type.append(\"Acceptor\")\n",
    "                        splice(\"chy\",[(lis_EXON_END[r]-200,lis_EXON_END[r]+201)])\n",
    "                        class_type.append(\"Doner\")        \n",
    "    else :\n",
    "        count=count+1\n",
    "        "
   ]
  },
  {
   "cell_type": "markdown",
   "metadata": {},
   "source": [
    "# show the length of list of sequences and class"
   ]
  },
  {
   "cell_type": "code",
   "execution_count": 7,
   "metadata": {},
   "outputs": [
    {
     "name": "stdout",
     "output_type": "stream",
     "text": [
      "the list sequences length is : 563604\n",
      "the list class length is : 563604\n"
     ]
    }
   ],
   "source": [
    "print(\"the list sequences length is :\",len(seq_splice))\n",
    "print(\"the list class length is :\",len( class_type))"
   ]
  },
  {
   "cell_type": "code",
   "execution_count": 34,
   "metadata": {},
   "outputs": [
    {
     "name": "stdout",
     "output_type": "stream",
     "text": [
      "Acceptor =  192940\n",
      "Doner =  192940\n",
      "Neither =  177724\n"
     ]
    }
   ],
   "source": [
    "Acceptor=0\n",
    "Doner=0\n",
    "Neither=0\n",
    "for i in class_type:\n",
    "    if i==\"Acceptor\":\n",
    "        Acceptor=Acceptor+1\n",
    "    elif i==\"Doner\" :\n",
    "        Doner=Doner+1\n",
    "    else:\n",
    "        Neither=Neither+1\n",
    "        #print(class_type.index(i))\n",
    "        \n",
    "print(\"Acceptor = \",Acceptor)\n",
    "print(\"Doner = \",Doner)\n",
    "print(\"Neither = \",Neither)"
   ]
  },
  {
   "cell_type": "markdown",
   "metadata": {},
   "source": [
    "# Convert sequences to binary matrix"
   ]
  },
  {
   "cell_type": "code",
   "execution_count": 9,
   "metadata": {},
   "outputs": [],
   "source": [
    "for j in range(563604):\n",
    "    locals()[\"x\"+str(j)]=np.empty((0,5),dtype=np.float32)\n",
    "    for i in seq_splice[j]:\n",
    "        if i=='A':\n",
    "            new_row=np.array([[1,0,0,0,0]],dtype=np.float32) \n",
    "        elif i=='T':\n",
    "            new_row=np.array([[0,1,0,0,0]],dtype=np.float32)\n",
    "        elif i=='C':\n",
    "            new_row=np.array([[0,0,1,0,0]],dtype=np.float32)\n",
    "        elif i=='G':\n",
    "            new_row=np.array([[0,0,0,1,0]],dtype=np.float32)\n",
    "        else :\n",
    "            new_row=np.array([[0,0,0,0,1]],dtype=np.float32)\n",
    "        \n",
    "        locals()[\"x\"+str(j)]=np.concatenate((locals()[\"x\"+str(j)],new_row))     "
   ]
  },
  {
   "cell_type": "markdown",
   "metadata": {},
   "source": [
    "# show one binary matrix from sequence"
   ]
  },
  {
   "cell_type": "code",
   "execution_count": 10,
   "metadata": {},
   "outputs": [
    {
     "name": "stdout",
     "output_type": "stream",
     "text": [
      "[[0. 1. 0. 0. 0.]\n",
      " [0. 0. 1. 0. 0.]\n",
      " [1. 0. 0. 0. 0.]\n",
      " ...\n",
      " [0. 0. 1. 0. 0.]\n",
      " [1. 0. 0. 0. 0.]\n",
      " [0. 1. 0. 0. 0.]]\n"
     ]
    }
   ],
   "source": [
    "print(x0)"
   ]
  },
  {
   "cell_type": "markdown",
   "metadata": {},
   "source": [
    "# make matrix of zeros"
   ]
  },
  {
   "cell_type": "code",
   "execution_count": 11,
   "metadata": {},
   "outputs": [
    {
     "name": "stdout",
     "output_type": "stream",
     "text": [
      "[[[0. 0. 0. 0. 0.]\n",
      "  [0. 0. 0. 0. 0.]\n",
      "  [0. 0. 0. 0. 0.]\n",
      "  ...\n",
      "  [0. 0. 0. 0. 0.]\n",
      "  [0. 0. 0. 0. 0.]\n",
      "  [0. 0. 0. 0. 0.]]\n",
      "\n",
      " [[0. 0. 0. 0. 0.]\n",
      "  [0. 0. 0. 0. 0.]\n",
      "  [0. 0. 0. 0. 0.]\n",
      "  ...\n",
      "  [0. 0. 0. 0. 0.]\n",
      "  [0. 0. 0. 0. 0.]\n",
      "  [0. 0. 0. 0. 0.]]\n",
      "\n",
      " [[0. 0. 0. 0. 0.]\n",
      "  [0. 0. 0. 0. 0.]\n",
      "  [0. 0. 0. 0. 0.]\n",
      "  ...\n",
      "  [0. 0. 0. 0. 0.]\n",
      "  [0. 0. 0. 0. 0.]\n",
      "  [0. 0. 0. 0. 0.]]\n",
      "\n",
      " ...\n",
      "\n",
      " [[0. 0. 0. 0. 0.]\n",
      "  [0. 0. 0. 0. 0.]\n",
      "  [0. 0. 0. 0. 0.]\n",
      "  ...\n",
      "  [0. 0. 0. 0. 0.]\n",
      "  [0. 0. 0. 0. 0.]\n",
      "  [0. 0. 0. 0. 0.]]\n",
      "\n",
      " [[0. 0. 0. 0. 0.]\n",
      "  [0. 0. 0. 0. 0.]\n",
      "  [0. 0. 0. 0. 0.]\n",
      "  ...\n",
      "  [0. 0. 0. 0. 0.]\n",
      "  [0. 0. 0. 0. 0.]\n",
      "  [0. 0. 0. 0. 0.]]\n",
      "\n",
      " [[0. 0. 0. 0. 0.]\n",
      "  [0. 0. 0. 0. 0.]\n",
      "  [0. 0. 0. 0. 0.]\n",
      "  ...\n",
      "  [0. 0. 0. 0. 0.]\n",
      "  [0. 0. 0. 0. 0.]\n",
      "  [0. 0. 0. 0. 0.]]]\n"
     ]
    }
   ],
   "source": [
    "z=np.zeros((563604,401,5),dtype=np.float32)\n",
    "print(z)"
   ]
  },
  {
   "cell_type": "markdown",
   "metadata": {},
   "source": [
    "# collect matrixs of sequences in one matrix"
   ]
  },
  {
   "cell_type": "code",
   "execution_count": null,
   "metadata": {},
   "outputs": [],
   "source": [
    "for i in range(563604):\n",
    "    z[i,:,:]=locals()[\"x\"+str(i)] "
   ]
  },
  {
   "cell_type": "markdown",
   "metadata": {},
   "source": [
    "# Convert class to binary matrix"
   ]
  },
  {
   "cell_type": "code",
   "execution_count": 38,
   "metadata": {},
   "outputs": [],
   "source": [
    "class_type_matrix=np.empty((0,3),dtype=np.float32)\n",
    "for i in range(len(class_type)):  \n",
    "    if class_type[i]=='Acceptor':\n",
    "        new_row=np.array([[1,0,0]],dtype=np.float32)\n",
    "    elif class_type[i]=='Doner':\n",
    "        new_row=np.array([[0,1,0]],dtype=np.float32)\n",
    "    else :\n",
    "        new_row=np.array([[0,0,1]],dtype=np.float32)\n",
    "    class_type_matrix = np.concatenate((class_type_matrix,new_row))"
   ]
  },
  {
   "cell_type": "markdown",
   "metadata": {},
   "source": [
    "# make shuffle to data"
   ]
  },
  {
   "cell_type": "code",
   "execution_count": 40,
   "metadata": {},
   "outputs": [],
   "source": [
    "from sklearn.utils import shuffle\n",
    "z,class_type_matrix = shuffle(z,class_type_matrix, random_state=0)"
   ]
  },
  {
   "cell_type": "markdown",
   "metadata": {},
   "source": [
    "# store data in file"
   ]
  },
  {
   "cell_type": "code",
   "execution_count": 41,
   "metadata": {},
   "outputs": [],
   "source": [
    "z.tofile('GProject1')\n",
    "class_type_matrix.tofile('GProject2')"
   ]
  },
  {
   "cell_type": "markdown",
   "metadata": {},
   "source": [
    "# Read data from file"
   ]
  },
  {
   "cell_type": "code",
   "execution_count": 3,
   "metadata": {},
   "outputs": [],
   "source": [
    "data=np.fromfile('GProject1',dtype=np.float32)\n",
    "label=np.fromfile('GProject2',dtype=np.float32)"
   ]
  },
  {
   "cell_type": "markdown",
   "metadata": {},
   "source": [
    "# Split data to Train and Test"
   ]
  },
  {
   "cell_type": "code",
   "execution_count": 4,
   "metadata": {},
   "outputs": [],
   "source": [
    "data_train=data.reshape(563604,401,5)[0:338162]\n",
    "data_test=data.reshape(563604,401,5)[338162:563604]\n",
    "lable_train=label.reshape(563604,3)[0:338162]\n",
    "lable_test=label.reshape(563604,3)[338162:563604]"
   ]
  },
  {
   "cell_type": "code",
   "execution_count": 5,
   "metadata": {},
   "outputs": [
    {
     "data": {
      "text/plain": [
       "338162"
      ]
     },
     "execution_count": 5,
     "metadata": {},
     "output_type": "execute_result"
    }
   ],
   "source": [
    "len(data_train)"
   ]
  },
  {
   "cell_type": "markdown",
   "metadata": {},
   "source": [
    "# Build CNN"
   ]
  },
  {
   "cell_type": "code",
   "execution_count": 6,
   "metadata": {},
   "outputs": [],
   "source": [
    "from keras.models import Sequential\n",
    "from keras.layers import Conv2D\n",
    "from keras.layers import MaxPooling2D\n",
    "from keras.layers import Flatten\n",
    "from keras.layers import Dense"
   ]
  },
  {
   "cell_type": "code",
   "execution_count": 7,
   "metadata": {},
   "outputs": [],
   "source": [
    "model=Sequential()\n",
    "model.add(Conv2D(filters=32,kernel_size=2,padding=\"same\",input_shape=(401,5,1),activation =\"relu\"))\n",
    "model.add(MaxPooling2D(pool_size=2))\n",
    "model.add(Conv2D(filters=32,kernel_size=2,padding=\"same\",activation=\"relu\"))\n",
    "model.add(MaxPooling2D(pool_size=2))\n",
    "model.add(Flatten())\n",
    "model.add(Dense(10,activation=\"relu\"))\n",
    "model.add(Dense(3,activation=\"relu\"))"
   ]
  },
  {
   "cell_type": "code",
   "execution_count": 8,
   "metadata": {},
   "outputs": [],
   "source": [
    "model.compile(optimizer='adam',loss='binary_crossentropy', metrics=['accuracy'])"
   ]
  },
  {
   "cell_type": "code",
   "execution_count": 9,
   "metadata": {},
   "outputs": [
    {
     "name": "stdout",
     "output_type": "stream",
     "text": [
      "Model: \"sequential\"\n",
      "_________________________________________________________________\n",
      " Layer (type)                Output Shape              Param #   \n",
      "=================================================================\n",
      " conv2d (Conv2D)             (None, 401, 5, 32)        160       \n",
      "                                                                 \n",
      " max_pooling2d (MaxPooling2D  (None, 200, 2, 32)       0         \n",
      " )                                                               \n",
      "                                                                 \n",
      " conv2d_1 (Conv2D)           (None, 200, 2, 32)        4128      \n",
      "                                                                 \n",
      " max_pooling2d_1 (MaxPooling  (None, 100, 1, 32)       0         \n",
      " 2D)                                                             \n",
      "                                                                 \n",
      " flatten (Flatten)           (None, 3200)              0         \n",
      "                                                                 \n",
      " dense (Dense)               (None, 10)                32010     \n",
      "                                                                 \n",
      " dense_1 (Dense)             (None, 3)                 33        \n",
      "                                                                 \n",
      "=================================================================\n",
      "Total params: 36,331\n",
      "Trainable params: 36,331\n",
      "Non-trainable params: 0\n",
      "_________________________________________________________________\n"
     ]
    }
   ],
   "source": [
    "model.summary()"
   ]
  },
  {
   "cell_type": "markdown",
   "metadata": {},
   "source": [
    "# Trainning the model"
   ]
  },
  {
   "cell_type": "code",
   "execution_count": 51,
   "metadata": {},
   "outputs": [
    {
     "name": "stdout",
     "output_type": "stream",
     "text": [
      "Epoch 1/10\n",
      "10568/10568 [==============================] - 196s 18ms/step - loss: 0.6834 - accuracy: 0.5209\n",
      "Epoch 2/10\n",
      "10568/10568 [==============================] - 197s 19ms/step - loss: 0.5527 - accuracy: 0.5640\n",
      "Epoch 3/10\n",
      "10568/10568 [==============================] - 195s 18ms/step - loss: 0.5730 - accuracy: 0.5378\n",
      "Epoch 4/10\n",
      "10568/10568 [==============================] - 200s 19ms/step - loss: 0.5408 - accuracy: 0.5681\n",
      "Epoch 5/10\n",
      "10568/10568 [==============================] - 203s 19ms/step - loss: 0.5209 - accuracy: 0.5826\n",
      "Epoch 6/10\n",
      "10568/10568 [==============================] - 204s 19ms/step - loss: 0.5340 - accuracy: 0.5661\n",
      "Epoch 7/10\n",
      "10568/10568 [==============================] - 205s 19ms/step - loss: 0.5216 - accuracy: 0.5754\n",
      "Epoch 8/10\n",
      "10568/10568 [==============================] - 190s 18ms/step - loss: 0.5126 - accuracy: 0.5875\n",
      "Epoch 9/10\n",
      "10568/10568 [==============================] - 204s 19ms/step - loss: 0.5084 - accuracy: 0.5850\n",
      "Epoch 10/10\n",
      "10568/10568 [==============================] - 208s 20ms/step - loss: 0.5120 - accuracy: 0.5798\n"
     ]
    },
    {
     "data": {
      "text/plain": [
       "<keras.callbacks.History at 0x2b3658583d0>"
      ]
     },
     "execution_count": 51,
     "metadata": {},
     "output_type": "execute_result"
    }
   ],
   "source": [
    "model.fit(data_train,lable_train,shuffle=True,epochs=10)"
   ]
  },
  {
   "cell_type": "markdown",
   "metadata": {},
   "source": [
    "# save model weights"
   ]
  },
  {
   "cell_type": "code",
   "execution_count": 79,
   "metadata": {},
   "outputs": [],
   "source": [
    "model.save_weights('CNN')"
   ]
  },
  {
   "cell_type": "markdown",
   "metadata": {},
   "source": [
    "# load model"
   ]
  },
  {
   "cell_type": "code",
   "execution_count": 10,
   "metadata": {},
   "outputs": [
    {
     "data": {
      "text/plain": [
       "<tensorflow.python.training.tracking.util.CheckpointLoadStatus at 0x183c8620c10>"
      ]
     },
     "execution_count": 10,
     "metadata": {},
     "output_type": "execute_result"
    }
   ],
   "source": [
    "model.load_weights('CNN')"
   ]
  },
  {
   "cell_type": "markdown",
   "metadata": {},
   "source": [
    "# Testing the model"
   ]
  },
  {
   "cell_type": "code",
   "execution_count": 69,
   "metadata": {},
   "outputs": [
    {
     "name": "stdout",
     "output_type": "stream",
     "text": [
      "7046/7046 [==============================] - 28s 4ms/step - loss: 0.5253 - accuracy: 0.5205\n"
     ]
    },
    {
     "data": {
      "text/plain": [
       "[0.5252529978752136, 0.5205374360084534]"
      ]
     },
     "execution_count": 69,
     "metadata": {},
     "output_type": "execute_result"
    }
   ],
   "source": [
    "model.evaluate(data_test,lable_test)"
   ]
  },
  {
   "cell_type": "code",
   "execution_count": 70,
   "metadata": {},
   "outputs": [
    {
     "name": "stdout",
     "output_type": "stream",
     "text": [
      "(1000, 3)\n"
     ]
    }
   ],
   "source": [
    "predictions=model.predict(data_test[0:1000])\n",
    "print(predictions.shape)"
   ]
  },
  {
   "cell_type": "code",
   "execution_count": 71,
   "metadata": {},
   "outputs": [
    {
     "data": {
      "text/plain": [
       "array([[0., 1., 0.],\n",
       "       [1., 0., 0.],\n",
       "       [0., 0., 0.],\n",
       "       ...,\n",
       "       [0., 0., 0.],\n",
       "       [1., 0., 0.],\n",
       "       [0., 0., 0.]], dtype=float32)"
      ]
     },
     "execution_count": 71,
     "metadata": {},
     "output_type": "execute_result"
    }
   ],
   "source": [
    "np.round(predictions)"
   ]
  },
  {
   "cell_type": "markdown",
   "metadata": {},
   "source": [
    "# Visualizing"
   ]
  },
  {
   "cell_type": "code",
   "execution_count": 12,
   "metadata": {},
   "outputs": [
    {
     "name": "stdout",
     "output_type": "stream",
     "text": [
      "Epoch 1/10\n",
      "10568/10568 [==============================] - 210s 20ms/step - loss: 0.5291 - accuracy: 0.5512 - val_loss: 0.5845 - val_accuracy: 0.4469\n",
      "Epoch 2/10\n",
      "10568/10568 [==============================] - 213s 20ms/step - loss: 0.5079 - accuracy: 0.5902 - val_loss: 0.4940 - val_accuracy: 0.6056\n",
      "Epoch 3/10\n",
      "10568/10568 [==============================] - 216s 20ms/step - loss: 0.6083 - accuracy: 0.4216 - val_loss: 0.5677 - val_accuracy: 0.5337\n",
      "Epoch 4/10\n",
      "10568/10568 [==============================] - 213s 20ms/step - loss: 0.6209 - accuracy: 0.3853 - val_loss: 0.6289 - val_accuracy: 0.3977\n",
      "Epoch 5/10\n",
      "10568/10568 [==============================] - 211s 20ms/step - loss: 0.5851 - accuracy: 0.4783 - val_loss: 0.6052 - val_accuracy: 0.4321\n",
      "Epoch 6/10\n",
      "10568/10568 [==============================] - 216s 20ms/step - loss: 0.6081 - accuracy: 0.4334 - val_loss: 0.5790 - val_accuracy: 0.5289\n",
      "Epoch 7/10\n",
      "10568/10568 [==============================] - 220s 21ms/step - loss: 0.9135 - accuracy: 0.5101 - val_loss: 3.9058 - val_accuracy: 0.3155\n",
      "Epoch 8/10\n",
      "10568/10568 [==============================] - 222s 21ms/step - loss: 1.1912 - accuracy: 0.4707 - val_loss: 0.5282 - val_accuracy: 0.5863\n",
      "Epoch 9/10\n",
      "10568/10568 [==============================] - 226s 21ms/step - loss: 0.5551 - accuracy: 0.5274 - val_loss: 0.5989 - val_accuracy: 0.5004\n",
      "Epoch 10/10\n",
      "10568/10568 [==============================] - 234s 22ms/step - loss: 0.5535 - accuracy: 0.5282 - val_loss: 0.6166 - val_accuracy: 0.4372\n"
     ]
    }
   ],
   "source": [
    "history = model.fit(data_train,lable_train,epochs = 10 , validation_data = (data_test, lable_test))"
   ]
  },
  {
   "cell_type": "code",
   "execution_count": 14,
   "metadata": {},
   "outputs": [
    {
     "data": {
      "image/png": "[encoded data removed]",
      "text/plain": [
       "<Figure size 1080x1080 with 2 Axes>"
      ]
     },
     "metadata": {
      "needs_background": "light"
     },
     "output_type": "display_data"
    }
   ],
   "source": [
    "import matplotlib.pyplot as plt\n",
    "acc = history.history['accuracy']\n",
    "val_acc = history.history['val_accuracy']\n",
    "loss = history.history['loss']\n",
    "val_loss = history.history['val_loss']\n",
    "\n",
    "epochs_range = range(10)\n",
    "\n",
    "plt.figure(figsize=(15, 15))\n",
    "plt.subplot(2, 2, 1)\n",
    "plt.plot(epochs_range, acc, label='Training Accuracy')\n",
    "plt.plot(epochs_range, val_acc, label='Validation Accuracy')\n",
    "plt.legend(loc='lower right')\n",
    "plt.title('Training and Validation Accuracy')\n",
    "\n",
    "plt.subplot(2, 2, 2)\n",
    "plt.plot(epochs_range, loss, label='Training Loss')\n",
    "plt.plot(epochs_range, val_loss, label='Validation Loss')\n",
    "plt.legend(loc='upper right')\n",
    "plt.title('Training and Validation Loss')\n",
    "plt.show()"
   ]
  },
  {
   "cell_type": "code",
   "execution_count": null,
   "metadata": {},
   "outputs": [],
   "source": []
  },
  {
   "cell_type": "code",
   "execution_count": null,
   "metadata": {},
   "outputs": [],
   "source": []
  }
 ],
 "metadata": {
  "kernelspec": {
   "display_name": "Python 3",
   "language": "python",
   "name": "python3"
  },
  "language_info": {
   "codemirror_mode": {
    "name": "ipython",
    "version": 3
   },
   "file_extension": ".py",
   "mimetype": "text/x-python",
   "name": "python",
   "nbconvert_exporter": "python",
   "pygments_lexer": "ipython3",
   "version": "3.8.5"
  }
 },
 "nbformat": 4,
 "nbformat_minor": 4
}
